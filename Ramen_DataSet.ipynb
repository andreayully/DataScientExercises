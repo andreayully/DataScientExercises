{
 "cells": [
  {
   "cell_type": "code",
   "execution_count": 1,
   "metadata": {},
   "outputs": [],
   "source": [
    "import numpy as np\n",
    "import pandas as pd\n",
    "import seaborn as sb\n",
    "from sklearn import linear_model"
   ]
  },
  {
   "cell_type": "code",
   "execution_count": 6,
   "metadata": {},
   "outputs": [],
   "source": [
    "dataset = pd.read_csv(\"ramen-ratings.csv\", sep=\",\")"
   ]
  },
  {
   "cell_type": "code",
   "execution_count": 7,
   "metadata": {},
   "outputs": [
    {
     "data": {
      "text/plain": [
       "(2580, 7)"
      ]
     },
     "execution_count": 7,
     "metadata": {},
     "output_type": "execute_result"
    }
   ],
   "source": [
    "dataset.shape"
   ]
  },
  {
   "cell_type": "code",
   "execution_count": 8,
   "metadata": {},
   "outputs": [
    {
     "data": {
      "text/html": [
       "<div>\n",
       "<style scoped>\n",
       "    .dataframe tbody tr th:only-of-type {\n",
       "        vertical-align: middle;\n",
       "    }\n",
       "\n",
       "    .dataframe tbody tr th {\n",
       "        vertical-align: top;\n",
       "    }\n",
       "\n",
       "    .dataframe thead th {\n",
       "        text-align: right;\n",
       "    }\n",
       "</style>\n",
       "<table border=\"1\" class=\"dataframe\">\n",
       "  <thead>\n",
       "    <tr style=\"text-align: right;\">\n",
       "      <th></th>\n",
       "      <th>Review #</th>\n",
       "      <th>Brand</th>\n",
       "      <th>Variety</th>\n",
       "      <th>Style</th>\n",
       "      <th>Country</th>\n",
       "      <th>Stars</th>\n",
       "      <th>Top Ten</th>\n",
       "    </tr>\n",
       "  </thead>\n",
       "  <tbody>\n",
       "    <tr>\n",
       "      <th>0</th>\n",
       "      <td>2580</td>\n",
       "      <td>New Touch</td>\n",
       "      <td>T's Restaurant Tantanmen</td>\n",
       "      <td>Cup</td>\n",
       "      <td>Japan</td>\n",
       "      <td>3.75</td>\n",
       "      <td>NaN</td>\n",
       "    </tr>\n",
       "    <tr>\n",
       "      <th>1</th>\n",
       "      <td>2579</td>\n",
       "      <td>Just Way</td>\n",
       "      <td>Noodles Spicy Hot Sesame Spicy Hot Sesame Guan...</td>\n",
       "      <td>Pack</td>\n",
       "      <td>Taiwan</td>\n",
       "      <td>1</td>\n",
       "      <td>NaN</td>\n",
       "    </tr>\n",
       "    <tr>\n",
       "      <th>2</th>\n",
       "      <td>2578</td>\n",
       "      <td>Nissin</td>\n",
       "      <td>Cup Noodles Chicken Vegetable</td>\n",
       "      <td>Cup</td>\n",
       "      <td>USA</td>\n",
       "      <td>2.25</td>\n",
       "      <td>NaN</td>\n",
       "    </tr>\n",
       "    <tr>\n",
       "      <th>3</th>\n",
       "      <td>2577</td>\n",
       "      <td>Wei Lih</td>\n",
       "      <td>GGE Ramen Snack Tomato Flavor</td>\n",
       "      <td>Pack</td>\n",
       "      <td>Taiwan</td>\n",
       "      <td>2.75</td>\n",
       "      <td>NaN</td>\n",
       "    </tr>\n",
       "    <tr>\n",
       "      <th>4</th>\n",
       "      <td>2576</td>\n",
       "      <td>Ching's Secret</td>\n",
       "      <td>Singapore Curry</td>\n",
       "      <td>Pack</td>\n",
       "      <td>India</td>\n",
       "      <td>3.75</td>\n",
       "      <td>NaN</td>\n",
       "    </tr>\n",
       "  </tbody>\n",
       "</table>\n",
       "</div>"
      ],
      "text/plain": [
       "   Review #           Brand  \\\n",
       "0      2580       New Touch   \n",
       "1      2579        Just Way   \n",
       "2      2578          Nissin   \n",
       "3      2577         Wei Lih   \n",
       "4      2576  Ching's Secret   \n",
       "\n",
       "                                             Variety Style Country Stars  \\\n",
       "0                          T's Restaurant Tantanmen    Cup   Japan  3.75   \n",
       "1  Noodles Spicy Hot Sesame Spicy Hot Sesame Guan...  Pack  Taiwan     1   \n",
       "2                      Cup Noodles Chicken Vegetable   Cup     USA  2.25   \n",
       "3                      GGE Ramen Snack Tomato Flavor  Pack  Taiwan  2.75   \n",
       "4                                    Singapore Curry  Pack   India  3.75   \n",
       "\n",
       "  Top Ten  \n",
       "0     NaN  \n",
       "1     NaN  \n",
       "2     NaN  \n",
       "3     NaN  \n",
       "4     NaN  "
      ]
     },
     "execution_count": 8,
     "metadata": {},
     "output_type": "execute_result"
    }
   ],
   "source": [
    "dataset.head()"
   ]
  },
  {
   "cell_type": "code",
   "execution_count": 38,
   "metadata": {},
   "outputs": [
    {
     "data": {
      "text/plain": [
       "array([nan, '2016 #10', '2016 #1', '2016 #8', '2016 #5', '2016 #9',\n",
       "       '2016 #7', '2015 #10', '2015 #7', '2015 #4', '2015 #9', '2015 #6',\n",
       "       '2015 #1', '2013 #10', '2015 #8', '2014 #7', '2014 #4', '2014 #9',\n",
       "       '2014 #10', '2014 #8', '2014 #5', '2014 #6', '2014 #1', '2013 #1',\n",
       "       '2013 #2', '2013 #4', '\\n', '2013 #9', '2013 #3', '2012 #10',\n",
       "       '2012 #7', '2012 #5', '2012 #3', '2012 #6', '2012 #9', '2012 #1',\n",
       "       '2012 #2', '2013 #6', '2012 #4'], dtype=object)"
      ]
     },
     "execution_count": 38,
     "metadata": {},
     "output_type": "execute_result"
    }
   ],
   "source": [
    "dataset.loc[:,\"Top Ten\"].unique()"
   ]
  },
  {
   "cell_type": "code",
   "execution_count": 39,
   "metadata": {},
   "outputs": [],
   "source": [
    "columnas = list(dataset.columns)\n",
    "columnas[6] = \"TopTen\"\n",
    "dataset.columns = columnas"
   ]
  },
  {
   "cell_type": "code",
   "execution_count": 40,
   "metadata": {},
   "outputs": [
    {
     "data": {
      "text/html": [
       "<div>\n",
       "<style scoped>\n",
       "    .dataframe tbody tr th:only-of-type {\n",
       "        vertical-align: middle;\n",
       "    }\n",
       "\n",
       "    .dataframe tbody tr th {\n",
       "        vertical-align: top;\n",
       "    }\n",
       "\n",
       "    .dataframe thead th {\n",
       "        text-align: right;\n",
       "    }\n",
       "</style>\n",
       "<table border=\"1\" class=\"dataframe\">\n",
       "  <thead>\n",
       "    <tr style=\"text-align: right;\">\n",
       "      <th></th>\n",
       "      <th>Review #</th>\n",
       "      <th>Brand</th>\n",
       "      <th>Variety</th>\n",
       "      <th>Style</th>\n",
       "      <th>Country</th>\n",
       "      <th>Stars</th>\n",
       "      <th>TopTen</th>\n",
       "    </tr>\n",
       "  </thead>\n",
       "  <tbody>\n",
       "    <tr>\n",
       "      <th>0</th>\n",
       "      <td>2580</td>\n",
       "      <td>New Touch</td>\n",
       "      <td>T's Restaurant Tantanmen</td>\n",
       "      <td>Cup</td>\n",
       "      <td>Japan</td>\n",
       "      <td>3.75</td>\n",
       "      <td>NaN</td>\n",
       "    </tr>\n",
       "    <tr>\n",
       "      <th>1</th>\n",
       "      <td>2579</td>\n",
       "      <td>Just Way</td>\n",
       "      <td>Noodles Spicy Hot Sesame Spicy Hot Sesame Guan...</td>\n",
       "      <td>Pack</td>\n",
       "      <td>Taiwan</td>\n",
       "      <td>1</td>\n",
       "      <td>NaN</td>\n",
       "    </tr>\n",
       "    <tr>\n",
       "      <th>2</th>\n",
       "      <td>2578</td>\n",
       "      <td>Nissin</td>\n",
       "      <td>Cup Noodles Chicken Vegetable</td>\n",
       "      <td>Cup</td>\n",
       "      <td>USA</td>\n",
       "      <td>2.25</td>\n",
       "      <td>NaN</td>\n",
       "    </tr>\n",
       "    <tr>\n",
       "      <th>3</th>\n",
       "      <td>2577</td>\n",
       "      <td>Wei Lih</td>\n",
       "      <td>GGE Ramen Snack Tomato Flavor</td>\n",
       "      <td>Pack</td>\n",
       "      <td>Taiwan</td>\n",
       "      <td>2.75</td>\n",
       "      <td>NaN</td>\n",
       "    </tr>\n",
       "    <tr>\n",
       "      <th>4</th>\n",
       "      <td>2576</td>\n",
       "      <td>Ching's Secret</td>\n",
       "      <td>Singapore Curry</td>\n",
       "      <td>Pack</td>\n",
       "      <td>India</td>\n",
       "      <td>3.75</td>\n",
       "      <td>NaN</td>\n",
       "    </tr>\n",
       "  </tbody>\n",
       "</table>\n",
       "</div>"
      ],
      "text/plain": [
       "   Review #           Brand  \\\n",
       "0      2580       New Touch   \n",
       "1      2579        Just Way   \n",
       "2      2578          Nissin   \n",
       "3      2577         Wei Lih   \n",
       "4      2576  Ching's Secret   \n",
       "\n",
       "                                             Variety Style Country Stars  \\\n",
       "0                          T's Restaurant Tantanmen    Cup   Japan  3.75   \n",
       "1  Noodles Spicy Hot Sesame Spicy Hot Sesame Guan...  Pack  Taiwan     1   \n",
       "2                      Cup Noodles Chicken Vegetable   Cup     USA  2.25   \n",
       "3                      GGE Ramen Snack Tomato Flavor  Pack  Taiwan  2.75   \n",
       "4                                    Singapore Curry  Pack   India  3.75   \n",
       "\n",
       "  TopTen  \n",
       "0    NaN  \n",
       "1    NaN  \n",
       "2    NaN  \n",
       "3    NaN  \n",
       "4    NaN  "
      ]
     },
     "execution_count": 40,
     "metadata": {},
     "output_type": "execute_result"
    }
   ],
   "source": [
    "dataset.head()"
   ]
  },
  {
   "cell_type": "code",
   "execution_count": 41,
   "metadata": {},
   "outputs": [
    {
     "data": {
      "text/plain": [
       "count     41\n",
       "unique    38\n",
       "top       \\n\n",
       "freq       4\n",
       "Name: TopTen, dtype: object"
      ]
     },
     "execution_count": 41,
     "metadata": {},
     "output_type": "execute_result"
    }
   ],
   "source": [
    "dataset.TopTen.describe()"
   ]
  },
  {
   "cell_type": "code",
   "execution_count": 43,
   "metadata": {},
   "outputs": [
    {
     "data": {
      "text/plain": [
       "array(['New Touch', 'Just Way', 'Nissin', 'Wei Lih', \"Ching's Secret\",\n",
       "       'Samyang Foods', 'Acecook', 'Ikeda Shoku', \"Ripe'n'Dry\", 'KOKA',\n",
       "       'Tao Kae Noi', 'Yamachan', 'Nongshim', 'TRDP', 'Binh Tay', 'Paldo',\n",
       "       'Jackpot Teriyaki', 'Yum-Mie', 'MyKuali', 'Ottogi',\n",
       "       'Sichuan Guangyou', 'Lipton', 'Lele', 'Fujiwara', 'Uni-President',\n",
       "       'Maruchan', 'Prima', 'Sokensha', 'Takamori', 'Guava Story',\n",
       "       'Samurai Ramen', 'Ogasawara', 'Pringles', \"Mom's Dry Noodle\",\n",
       "       'Maggi', 'Indomie', 'Happy Cook', 'The Ramen Rater Select', 'TTL',\n",
       "       'E-Zee', 'Kiki Noodle', 'Tokyo Noodle', 'GGE', 'Myojo', 'Sau Tao',\n",
       "       'Wang', 'Daifuku', 'Master Kong', \"World O' Noodle\", 'Kang Shi Fu',\n",
       "       'Mum Ngon', 'Fashion Food', 'Dream Kitchen', 'Ajinatori',\n",
       "       \"Dr. McDougall's\", 'Ve Wong', 'Super Bihun', 'Xiuhe',\n",
       "       'Little Cook', 'Shirakiku', \"Mama Pat's\", 'Goku-Uma',\n",
       "       'Sichuan Baijia', 'Liang Cheng Mai', 'Gefen', 'Hua Feng',\n",
       "       'Pulmuone', 'Liu Quan', 'Daikoku', 'Chuan Wei Wang', 'Wai Wai',\n",
       "       'Kamfen', 'Marutai', 'Vifon', '1 To 3 Noodles', 'Fantastic',\n",
       "       'Knorr', 'Sempio', 'Patanjali', 'Qin Zong', 'Pran',\n",
       "       'Sapporo Ichiban', 'MAMA', 'Xiao Ban Mian', 'Suimin', 'Cintan',\n",
       "       'JML', 'Unif Tung-I', 'Tablemark', \"Farmer's Heart\", 'Fuku',\n",
       "       'Singa-Me', 'Love Cook', 'Great Value', 'Asian Thai Foods',\n",
       "       'Nagatanien', 'Nyor Nyar', 'Tseng Noodles', 'A-Sha Dry Noodle',\n",
       "       'Morre', 'Roland', \"Mr. Lee's Noodles\", 'Choumama',\n",
       "       'President Rice', 'Happy Family', 'Menraku', 'La Moderna',\n",
       "       'Jingqi', 'Thien Houng Foods', 'Doll', 'Four Seas', 'CarJEN',\n",
       "       '7 Select', 'Oni Hot Pot', 'Weh Lih', 'Itomen', 'Sanpo',\n",
       "       'Mi Sedaap', 'Tokushima Seifun', 'Mamee', 'Zow Zow', 'Koyo',\n",
       "       'ORee Garden', 'A1', 'Migawon', \"Chaudhary's Wai Wai\",\n",
       "       'Urban Noodle', 'Trident', 'Conimex', 'Prima Taste', 'MyOri',\n",
       "       'Itsuki', 'Kabuto Noodles', 'IbuRamen', 'Koh Thai', 'Bamee',\n",
       "       'Ibumie', 'Unox', 'Fortune', 'Bonasia', 'Mie Sedaap', 'iMee',\n",
       "       'Thai Smile', 'Asia Gold', 'Pirkka', 'Higashimaru', 'Kuriki',\n",
       "       'Vedan', 'Yum Yum', 'Mama', 'Baijia', 'Daraz', 'Pama', 'Seven & I',\n",
       "       'Forest Noodles', \"Vit's\", 'Ten-In', 'Sugakiya Foods', 'Hao Way',\n",
       "       'Nakaya Shouten', 'Thai Chef', 'Crystal Noodle', 'Azami', 'Super',\n",
       "       'Torishi', 'Western Family', 'Chering Chang', 'Ishimaru',\n",
       "       'Authentically Asian', 'Aroi', 'Koka', 'Wu-Mu', 'Yamadai',\n",
       "       'Vina Acecook', 'Baixiang Noodles', 'Salam Mie', 'Lee Fah Mee',\n",
       "       'Sakurai Foods', 'The Kitchen Food', 'Premiere', '7 Select/Nissin',\n",
       "       'Wugudaochang', 'Emart', 'Lishan Food Manufacturing', 'Ah Lai',\n",
       "       'Tropicana Slim', 'A-One', 'Deshome', 'Paldo Vina', 'Chencun',\n",
       "       'United', 'ChoripDong', 'Shan', 'Ruski', 'No Name', 'New Way',\n",
       "       'Lucky Me!', \"Campbell's\", 'One Dish Asia', 'Long Jun Hang',\n",
       "       'Unif-100', 'Hankow', 'The Bridge', 'Mitoku', 'Unzen', 'Uncle Sun',\n",
       "       'Mi E-Zee', 'E-mi', 'J.J.', 'Curry Prince', 'Econsave', 'Oyatsu',\n",
       "       'Kin-Dee', 'Ko-Lee', 'ICA', 'Nanyang Chef', 'Thai Pavilion',\n",
       "       'Miliket', 'Katoz', 'Men-Sunaoshi', 'Chewy', 'Adabi',\n",
       "       'Osaka Ramen', \"Sainsbury's\", 'Pamana', \"Annie Chun's\", 'La Fonte',\n",
       "       'Thai Choice', 'Tesco', 'Pop Bihun', 'Snapdragon', 'Saji',\n",
       "       'Miracle Noodle', 'Tiger Tiger', 'Takamori Kosan', 'Papa',\n",
       "       'Sawadee', 'Golden Wheat', 'Lotus Foods', 'Plats Du Chef',\n",
       "       'Batchelors', 'Sakura Noodle', 'Unif', 'Hi-Myon', 'Healtimie',\n",
       "       'Thai Kitchen', 'Mr. Noodles', 'Good Tto Leu Foods', 'GaGa',\n",
       "       'Kimura', 'Tokachimen Koubou', 'ABC', 'Eat & Go', 'President',\n",
       "       'SuperMi', 'Kumamoto', 'HoMyeonDang', 'Nan Jie Cun', 'China Best',\n",
       "       'Sanrio', 'Peyang', 'Golden Wonder', 'Komforte Chockolates',\n",
       "       'Nagao Noodle', 'Maitri', 'GS25', 'Baltix', 'Amianda',\n",
       "       'Tasty Bite', 'Star Anise Foods', 'Tradition', 'Amino',\n",
       "       'Pot Noodle', 'Sun Noodle', 'S&S', 'Springlife', 'Right Foods',\n",
       "       'Sunlee', 'Goku Uma', 'Daddy', \"Han's South Korea\", 'Sarimi',\n",
       "       'FMF', 'Long Kow', 'Unif / Tung-I', 'Song Hak', 'Fuji Mengyo',\n",
       "       'Dragonfly', 'CJ CheilJedang', 'Dongwon', 'Seven-Eleven', 'Souper',\n",
       "       \"Kim's Bowl\", 'Ohsung', 'Gau Do', 'Golden Mie', 'GreeNoodle',\n",
       "       'Kailo', 'Fashion Foods', 'Hosoonyi', 'Payless', 'Yamamoto',\n",
       "       'Saigon Ve Wong', 'Wu Mu', 'Mee Jang', 'JFC', 'Samyang',\n",
       "       'Mug Shot', 'Lishan', 'Cap Atoom Bulan', 'Sura', 'Wei Chuan',\n",
       "       'Yamamori', 'Mr. Udon', 'Omachi', 'Wei Wei', 'Six Fortune',\n",
       "       'Haioreum', 'Sunlight', 'Noah Foods', 'O Sung', 'Foodmon',\n",
       "       'Sahmyook', 'Nan Hsing', 'Mexi-Ramen', 'Hsin Tung Yang', 'Sao Tao',\n",
       "       'iNoodle', 'Quickchow', 'Chikara', 'Q', 'Noodle Time', 'Gomex',\n",
       "       'US Canning', 'Rhee Bros Assi', 'Bon Go Jang', 'Tayho',\n",
       "       'Sunny Maid', 'Royal Umbrella', 'Tiger',\n",
       "       'Fu Chang Chinese Noodle Company', 'Sanyo Foods', 'Rocket Brand',\n",
       "       'Boss', 'Chorip Dong', 'Higashi', 'Sakurai', 'Global Inspiration',\n",
       "       'Teriyaki Time', 'Hua Feng Noodle Expert', 'Kim Ve Wong', 'Smack',\n",
       "       'Sutah', 'Tung-I', 'Westbrae'], dtype=object)"
      ]
     },
     "execution_count": 43,
     "metadata": {},
     "output_type": "execute_result"
    }
   ],
   "source": [
    "dataset.Brand.unique()"
   ]
  },
  {
   "cell_type": "code",
   "execution_count": 45,
   "metadata": {},
   "outputs": [
    {
     "data": {
      "text/plain": [
       "count     2580\n",
       "unique      51\n",
       "top          4\n",
       "freq       384\n",
       "Name: Stars, dtype: object"
      ]
     },
     "execution_count": 45,
     "metadata": {},
     "output_type": "execute_result"
    }
   ],
   "source": [
    "dataset.Stars.describe()"
   ]
  },
  {
   "cell_type": "code",
   "execution_count": 46,
   "metadata": {},
   "outputs": [],
   "source": [
    "one_shot_dataset = dataset.copy()"
   ]
  },
  {
   "cell_type": "code",
   "execution_count": 47,
   "metadata": {},
   "outputs": [
    {
     "data": {
      "text/plain": [
       "array([\"T's Restaurant Tantanmen \",\n",
       "       'Noodles Spicy Hot Sesame Spicy Hot Sesame Guan-miao Noodles',\n",
       "       'Cup Noodles Chicken Vegetable', ...,\n",
       "       'Hu Tiu Nam Vang [\"Phnom Penh\" style] Asian Style Instant\\xa0Rice\\xa0Noodles',\n",
       "       'Oriental Style Instant Noodles', 'Tom Yum Chili Flavor'],\n",
       "      dtype=object)"
      ]
     },
     "execution_count": 47,
     "metadata": {},
     "output_type": "execute_result"
    }
   ],
   "source": [
    "dataset.Variety.unique()"
   ]
  },
  {
   "cell_type": "code",
   "execution_count": 55,
   "metadata": {},
   "outputs": [],
   "source": [
    "from numpy import array\n",
    "#OneHotEncoder\n",
    "# https://machinelearningmastery.com/how-to-one-hot-encode-sequence-data-in-python/ "
   ]
  },
  {
   "cell_type": "code",
   "execution_count": 60,
   "metadata": {},
   "outputs": [],
   "source": [
    "Brand_data = list(one_shot_dataset.Brand)"
   ]
  },
  {
   "cell_type": "code",
   "execution_count": 61,
   "metadata": {},
   "outputs": [],
   "source": [
    "values = array(Brand_list)"
   ]
  },
  {
   "cell_type": "code",
   "execution_count": null,
   "metadata": {},
   "outputs": [],
   "source": []
  },
  {
   "cell_type": "code",
   "execution_count": null,
   "metadata": {},
   "outputs": [],
   "source": []
  }
 ],
 "metadata": {
  "kernelspec": {
   "display_name": "Python 3",
   "language": "python",
   "name": "python3"
  },
  "language_info": {
   "codemirror_mode": {
    "name": "ipython",
    "version": 3
   },
   "file_extension": ".py",
   "mimetype": "text/x-python",
   "name": "python",
   "nbconvert_exporter": "python",
   "pygments_lexer": "ipython3",
   "version": "3.7.3"
  }
 },
 "nbformat": 4,
 "nbformat_minor": 2
}
